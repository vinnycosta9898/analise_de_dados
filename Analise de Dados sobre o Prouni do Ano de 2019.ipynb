{
 "cells": [
  {
   "cell_type": "markdown",
   "metadata": {},
   "source": [
    "# Importando as bibliotecas "
   ]
  },
  {
   "cell_type": "code",
   "execution_count": 10,
   "metadata": {},
   "outputs": [],
   "source": [
    "import pandas as pd\n",
    "import matplotlib.pyplot as plt"
   ]
  },
  {
   "cell_type": "markdown",
   "metadata": {},
   "source": [
    "# Lendo o conjunto de Dados"
   ]
  },
  {
   "cell_type": "code",
   "execution_count": 11,
   "metadata": {},
   "outputs": [
    {
     "data": {
      "text/html": [
       "<div>\n",
       "<style scoped>\n",
       "    .dataframe tbody tr th:only-of-type {\n",
       "        vertical-align: middle;\n",
       "    }\n",
       "\n",
       "    .dataframe tbody tr th {\n",
       "        vertical-align: top;\n",
       "    }\n",
       "\n",
       "    .dataframe thead th {\n",
       "        text-align: right;\n",
       "    }\n",
       "</style>\n",
       "<table border=\"1\" class=\"dataframe\">\n",
       "  <thead>\n",
       "    <tr style=\"text-align: right;\">\n",
       "      <th></th>\n",
       "      <th>ANO_CONCESSAO_BOLSA</th>\n",
       "      <th>CODIGO_EMEC_IES_BOLSA</th>\n",
       "      <th>NOME_IES_BOLSA</th>\n",
       "      <th>TIPO_BOLSA</th>\n",
       "      <th>MODALIDADE_ENSINO_BOLSA</th>\n",
       "      <th>NOME_CURSO_BOLSA</th>\n",
       "      <th>NOME_TURNO_CURSO_BOLSA</th>\n",
       "      <th>CPF_BENEFICIARIO_BOLSA</th>\n",
       "      <th>SEXO_BENEFICIARIO_BOLSA</th>\n",
       "      <th>RACA_BENEFICIARIO_BOLSA</th>\n",
       "      <th>DT_NASCIMENTO_BENEFICIARIO</th>\n",
       "      <th>BENEFICIARIO_DEFICIENTE_FISICO</th>\n",
       "      <th>REGIAO_BENEFICIARIO_BOLSA</th>\n",
       "      <th>SIGLA_UF_BENEFICIARIO_BOLSA</th>\n",
       "      <th>MUNICIPIO_BENEFICIARIO_BOLSA</th>\n",
       "    </tr>\n",
       "  </thead>\n",
       "  <tbody>\n",
       "    <tr>\n",
       "      <th>0</th>\n",
       "      <td>2019.0</td>\n",
       "      <td>10.0</td>\n",
       "      <td>PONTIFÍCIA UNIVERSIDADE CATÓLICA DO PARANÁ</td>\n",
       "      <td>BOLSA INTEGRAL</td>\n",
       "      <td>EAD</td>\n",
       "      <td>Administração</td>\n",
       "      <td>Curso a distância</td>\n",
       "      <td>***03183970**</td>\n",
       "      <td>M</td>\n",
       "      <td>Branca</td>\n",
       "      <td>19/08/1993</td>\n",
       "      <td>N</td>\n",
       "      <td>Sul</td>\n",
       "      <td>PR</td>\n",
       "      <td>LONDRINA</td>\n",
       "    </tr>\n",
       "    <tr>\n",
       "      <th>1</th>\n",
       "      <td>2019.0</td>\n",
       "      <td>10.0</td>\n",
       "      <td>PONTIFÍCIA UNIVERSIDADE CATÓLICA DO PARANÁ</td>\n",
       "      <td>BOLSA INTEGRAL</td>\n",
       "      <td>EAD</td>\n",
       "      <td>Administração</td>\n",
       "      <td>Curso a distância</td>\n",
       "      <td>***92848904**</td>\n",
       "      <td>F</td>\n",
       "      <td>Branca</td>\n",
       "      <td>03/11/1999</td>\n",
       "      <td>N</td>\n",
       "      <td>Sul</td>\n",
       "      <td>PR</td>\n",
       "      <td>SAO JOSE DOS PINHAIS</td>\n",
       "    </tr>\n",
       "    <tr>\n",
       "      <th>2</th>\n",
       "      <td>2019.0</td>\n",
       "      <td>10.0</td>\n",
       "      <td>PONTIFÍCIA UNIVERSIDADE CATÓLICA DO PARANÁ</td>\n",
       "      <td>BOLSA INTEGRAL</td>\n",
       "      <td>EAD</td>\n",
       "      <td>Análise E Desenvolvimento De Sistemas</td>\n",
       "      <td>Curso a distância</td>\n",
       "      <td>***12457929**</td>\n",
       "      <td>M</td>\n",
       "      <td>Parda</td>\n",
       "      <td>02/04/1999</td>\n",
       "      <td>N</td>\n",
       "      <td>Sul</td>\n",
       "      <td>PR</td>\n",
       "      <td>QUATRO BARRAS</td>\n",
       "    </tr>\n",
       "    <tr>\n",
       "      <th>3</th>\n",
       "      <td>2019.0</td>\n",
       "      <td>10.0</td>\n",
       "      <td>PONTIFÍCIA UNIVERSIDADE CATÓLICA DO PARANÁ</td>\n",
       "      <td>BOLSA INTEGRAL</td>\n",
       "      <td>EAD</td>\n",
       "      <td>Análise E Desenvolvimento De Sistemas</td>\n",
       "      <td>Curso a distância</td>\n",
       "      <td>***21386908**</td>\n",
       "      <td>M</td>\n",
       "      <td>Branca</td>\n",
       "      <td>15/03/2000</td>\n",
       "      <td>N</td>\n",
       "      <td>Sul</td>\n",
       "      <td>PR</td>\n",
       "      <td>CURITIBA</td>\n",
       "    </tr>\n",
       "    <tr>\n",
       "      <th>4</th>\n",
       "      <td>2019.0</td>\n",
       "      <td>10.0</td>\n",
       "      <td>PONTIFÍCIA UNIVERSIDADE CATÓLICA DO PARANÁ</td>\n",
       "      <td>BOLSA INTEGRAL</td>\n",
       "      <td>EAD</td>\n",
       "      <td>Análise E Desenvolvimento De Sistemas</td>\n",
       "      <td>Curso a distância</td>\n",
       "      <td>***27405933**</td>\n",
       "      <td>M</td>\n",
       "      <td>Branca</td>\n",
       "      <td>23/05/1993</td>\n",
       "      <td>N</td>\n",
       "      <td>Sul</td>\n",
       "      <td>PR</td>\n",
       "      <td>SAO JOSE DOS PINHAIS</td>\n",
       "    </tr>\n",
       "  </tbody>\n",
       "</table>\n",
       "</div>"
      ],
      "text/plain": [
       "   ANO_CONCESSAO_BOLSA  CODIGO_EMEC_IES_BOLSA  \\\n",
       "0               2019.0                   10.0   \n",
       "1               2019.0                   10.0   \n",
       "2               2019.0                   10.0   \n",
       "3               2019.0                   10.0   \n",
       "4               2019.0                   10.0   \n",
       "\n",
       "                               NOME_IES_BOLSA      TIPO_BOLSA  \\\n",
       "0  PONTIFÍCIA UNIVERSIDADE CATÓLICA DO PARANÁ  BOLSA INTEGRAL   \n",
       "1  PONTIFÍCIA UNIVERSIDADE CATÓLICA DO PARANÁ  BOLSA INTEGRAL   \n",
       "2  PONTIFÍCIA UNIVERSIDADE CATÓLICA DO PARANÁ  BOLSA INTEGRAL   \n",
       "3  PONTIFÍCIA UNIVERSIDADE CATÓLICA DO PARANÁ  BOLSA INTEGRAL   \n",
       "4  PONTIFÍCIA UNIVERSIDADE CATÓLICA DO PARANÁ  BOLSA INTEGRAL   \n",
       "\n",
       "  MODALIDADE_ENSINO_BOLSA                       NOME_CURSO_BOLSA  \\\n",
       "0                     EAD                          Administração   \n",
       "1                     EAD                          Administração   \n",
       "2                     EAD  Análise E Desenvolvimento De Sistemas   \n",
       "3                     EAD  Análise E Desenvolvimento De Sistemas   \n",
       "4                     EAD  Análise E Desenvolvimento De Sistemas   \n",
       "\n",
       "  NOME_TURNO_CURSO_BOLSA CPF_BENEFICIARIO_BOLSA SEXO_BENEFICIARIO_BOLSA  \\\n",
       "0      Curso a distância          ***03183970**                       M   \n",
       "1      Curso a distância          ***92848904**                       F   \n",
       "2      Curso a distância          ***12457929**                       M   \n",
       "3      Curso a distância          ***21386908**                       M   \n",
       "4      Curso a distância          ***27405933**                       M   \n",
       "\n",
       "  RACA_BENEFICIARIO_BOLSA DT_NASCIMENTO_BENEFICIARIO  \\\n",
       "0                  Branca                 19/08/1993   \n",
       "1                  Branca                 03/11/1999   \n",
       "2                   Parda                 02/04/1999   \n",
       "3                  Branca                 15/03/2000   \n",
       "4                  Branca                 23/05/1993   \n",
       "\n",
       "  BENEFICIARIO_DEFICIENTE_FISICO REGIAO_BENEFICIARIO_BOLSA  \\\n",
       "0                              N                       Sul   \n",
       "1                              N                       Sul   \n",
       "2                              N                       Sul   \n",
       "3                              N                       Sul   \n",
       "4                              N                       Sul   \n",
       "\n",
       "  SIGLA_UF_BENEFICIARIO_BOLSA MUNICIPIO_BENEFICIARIO_BOLSA  \n",
       "0                          PR                     LONDRINA  \n",
       "1                          PR         SAO JOSE DOS PINHAIS  \n",
       "2                          PR                QUATRO BARRAS  \n",
       "3                          PR                     CURITIBA  \n",
       "4                          PR         SAO JOSE DOS PINHAIS  "
      ]
     },
     "execution_count": 11,
     "metadata": {},
     "output_type": "execute_result"
    }
   ],
   "source": [
    "prouni = pd.read_csv('pro_uni_2019.csv', encoding='utf-8', sep=';', parse_dates=True)\n",
    "prouni.head()"
   ]
  },
  {
   "cell_type": "markdown",
   "metadata": {},
   "source": [
    "# Obtendo estatísticas descritivas sobre o conjunto de dados"
   ]
  },
  {
   "cell_type": "code",
   "execution_count": 12,
   "metadata": {},
   "outputs": [
    {
     "name": "stdout",
     "output_type": "stream",
     "text": [
      "Esse Dataset possui 241032 linhas e 15 colunas\n"
     ]
    }
   ],
   "source": [
    "# Verifica o tamnaho do Dataframe\n",
    "print(f'Esse Dataset possui {prouni.shape[0]} linhas e {prouni.shape[1]} colunas')"
   ]
  },
  {
   "cell_type": "code",
   "execution_count": 13,
   "metadata": {},
   "outputs": [
    {
     "data": {
      "text/plain": [
       "ANO_CONCESSAO_BOLSA               15477\n",
       "CODIGO_EMEC_IES_BOLSA             15477\n",
       "NOME_IES_BOLSA                    15477\n",
       "TIPO_BOLSA                        15477\n",
       "MODALIDADE_ENSINO_BOLSA           15477\n",
       "NOME_CURSO_BOLSA                  15477\n",
       "NOME_TURNO_CURSO_BOLSA            15477\n",
       "CPF_BENEFICIARIO_BOLSA            15477\n",
       "SEXO_BENEFICIARIO_BOLSA           15477\n",
       "RACA_BENEFICIARIO_BOLSA           15477\n",
       "DT_NASCIMENTO_BENEFICIARIO        15477\n",
       "BENEFICIARIO_DEFICIENTE_FISICO    15477\n",
       "REGIAO_BENEFICIARIO_BOLSA         15477\n",
       "SIGLA_UF_BENEFICIARIO_BOLSA       15477\n",
       "MUNICIPIO_BENEFICIARIO_BOLSA      15477\n",
       "dtype: int64"
      ]
     },
     "execution_count": 13,
     "metadata": {},
     "output_type": "execute_result"
    }
   ],
   "source": [
    "# Verifica a quantidade de elementos faltantes nas colunas \n",
    "prouni.isna().sum()"
   ]
  },
  {
   "cell_type": "code",
   "execution_count": 14,
   "metadata": {},
   "outputs": [
    {
     "data": {
      "text/html": [
       "<div>\n",
       "<style scoped>\n",
       "    .dataframe tbody tr th:only-of-type {\n",
       "        vertical-align: middle;\n",
       "    }\n",
       "\n",
       "    .dataframe tbody tr th {\n",
       "        vertical-align: top;\n",
       "    }\n",
       "\n",
       "    .dataframe thead th {\n",
       "        text-align: right;\n",
       "    }\n",
       "</style>\n",
       "<table border=\"1\" class=\"dataframe\">\n",
       "  <thead>\n",
       "    <tr style=\"text-align: right;\">\n",
       "      <th></th>\n",
       "      <th>ANO_CONCESSAO_BOLSA</th>\n",
       "      <th>NOME_IES_BOLSA</th>\n",
       "      <th>TIPO_BOLSA</th>\n",
       "      <th>MODALIDADE_ENSINO_BOLSA</th>\n",
       "      <th>NOME_CURSO_BOLSA</th>\n",
       "      <th>SEXO_BENEFICIARIO_BOLSA</th>\n",
       "      <th>RACA_BENEFICIARIO_BOLSA</th>\n",
       "      <th>DT_NASCIMENTO_BENEFICIARIO</th>\n",
       "      <th>BENEFICIARIO_DEFICIENTE_FISICO</th>\n",
       "      <th>SIGLA_UF_BENEFICIARIO_BOLSA</th>\n",
       "      <th>MUNICIPIO_BENEFICIARIO_BOLSA</th>\n",
       "    </tr>\n",
       "  </thead>\n",
       "  <tbody>\n",
       "    <tr>\n",
       "      <th>0</th>\n",
       "      <td>2019.0</td>\n",
       "      <td>PONTIFÍCIA UNIVERSIDADE CATÓLICA DO PARANÁ</td>\n",
       "      <td>BOLSA INTEGRAL</td>\n",
       "      <td>EAD</td>\n",
       "      <td>Administração</td>\n",
       "      <td>M</td>\n",
       "      <td>Branca</td>\n",
       "      <td>19/08/1993</td>\n",
       "      <td>N</td>\n",
       "      <td>PR</td>\n",
       "      <td>LONDRINA</td>\n",
       "    </tr>\n",
       "    <tr>\n",
       "      <th>1</th>\n",
       "      <td>2019.0</td>\n",
       "      <td>PONTIFÍCIA UNIVERSIDADE CATÓLICA DO PARANÁ</td>\n",
       "      <td>BOLSA INTEGRAL</td>\n",
       "      <td>EAD</td>\n",
       "      <td>Administração</td>\n",
       "      <td>F</td>\n",
       "      <td>Branca</td>\n",
       "      <td>03/11/1999</td>\n",
       "      <td>N</td>\n",
       "      <td>PR</td>\n",
       "      <td>SAO JOSE DOS PINHAIS</td>\n",
       "    </tr>\n",
       "    <tr>\n",
       "      <th>2</th>\n",
       "      <td>2019.0</td>\n",
       "      <td>PONTIFÍCIA UNIVERSIDADE CATÓLICA DO PARANÁ</td>\n",
       "      <td>BOLSA INTEGRAL</td>\n",
       "      <td>EAD</td>\n",
       "      <td>Análise E Desenvolvimento De Sistemas</td>\n",
       "      <td>M</td>\n",
       "      <td>Parda</td>\n",
       "      <td>02/04/1999</td>\n",
       "      <td>N</td>\n",
       "      <td>PR</td>\n",
       "      <td>QUATRO BARRAS</td>\n",
       "    </tr>\n",
       "    <tr>\n",
       "      <th>3</th>\n",
       "      <td>2019.0</td>\n",
       "      <td>PONTIFÍCIA UNIVERSIDADE CATÓLICA DO PARANÁ</td>\n",
       "      <td>BOLSA INTEGRAL</td>\n",
       "      <td>EAD</td>\n",
       "      <td>Análise E Desenvolvimento De Sistemas</td>\n",
       "      <td>M</td>\n",
       "      <td>Branca</td>\n",
       "      <td>15/03/2000</td>\n",
       "      <td>N</td>\n",
       "      <td>PR</td>\n",
       "      <td>CURITIBA</td>\n",
       "    </tr>\n",
       "    <tr>\n",
       "      <th>4</th>\n",
       "      <td>2019.0</td>\n",
       "      <td>PONTIFÍCIA UNIVERSIDADE CATÓLICA DO PARANÁ</td>\n",
       "      <td>BOLSA INTEGRAL</td>\n",
       "      <td>EAD</td>\n",
       "      <td>Análise E Desenvolvimento De Sistemas</td>\n",
       "      <td>M</td>\n",
       "      <td>Branca</td>\n",
       "      <td>23/05/1993</td>\n",
       "      <td>N</td>\n",
       "      <td>PR</td>\n",
       "      <td>SAO JOSE DOS PINHAIS</td>\n",
       "    </tr>\n",
       "  </tbody>\n",
       "</table>\n",
       "</div>"
      ],
      "text/plain": [
       "   ANO_CONCESSAO_BOLSA                              NOME_IES_BOLSA  \\\n",
       "0               2019.0  PONTIFÍCIA UNIVERSIDADE CATÓLICA DO PARANÁ   \n",
       "1               2019.0  PONTIFÍCIA UNIVERSIDADE CATÓLICA DO PARANÁ   \n",
       "2               2019.0  PONTIFÍCIA UNIVERSIDADE CATÓLICA DO PARANÁ   \n",
       "3               2019.0  PONTIFÍCIA UNIVERSIDADE CATÓLICA DO PARANÁ   \n",
       "4               2019.0  PONTIFÍCIA UNIVERSIDADE CATÓLICA DO PARANÁ   \n",
       "\n",
       "       TIPO_BOLSA MODALIDADE_ENSINO_BOLSA  \\\n",
       "0  BOLSA INTEGRAL                     EAD   \n",
       "1  BOLSA INTEGRAL                     EAD   \n",
       "2  BOLSA INTEGRAL                     EAD   \n",
       "3  BOLSA INTEGRAL                     EAD   \n",
       "4  BOLSA INTEGRAL                     EAD   \n",
       "\n",
       "                        NOME_CURSO_BOLSA SEXO_BENEFICIARIO_BOLSA  \\\n",
       "0                          Administração                       M   \n",
       "1                          Administração                       F   \n",
       "2  Análise E Desenvolvimento De Sistemas                       M   \n",
       "3  Análise E Desenvolvimento De Sistemas                       M   \n",
       "4  Análise E Desenvolvimento De Sistemas                       M   \n",
       "\n",
       "  RACA_BENEFICIARIO_BOLSA DT_NASCIMENTO_BENEFICIARIO  \\\n",
       "0                  Branca                 19/08/1993   \n",
       "1                  Branca                 03/11/1999   \n",
       "2                   Parda                 02/04/1999   \n",
       "3                  Branca                 15/03/2000   \n",
       "4                  Branca                 23/05/1993   \n",
       "\n",
       "  BENEFICIARIO_DEFICIENTE_FISICO SIGLA_UF_BENEFICIARIO_BOLSA  \\\n",
       "0                              N                          PR   \n",
       "1                              N                          PR   \n",
       "2                              N                          PR   \n",
       "3                              N                          PR   \n",
       "4                              N                          PR   \n",
       "\n",
       "  MUNICIPIO_BENEFICIARIO_BOLSA  \n",
       "0                     LONDRINA  \n",
       "1         SAO JOSE DOS PINHAIS  \n",
       "2                QUATRO BARRAS  \n",
       "3                     CURITIBA  \n",
       "4         SAO JOSE DOS PINHAIS  "
      ]
     },
     "execution_count": 14,
     "metadata": {},
     "output_type": "execute_result"
    }
   ],
   "source": [
    "# Elimina as colunas passadas na lista\n",
    "prouni = prouni.drop(['CODIGO_EMEC_IES_BOLSA', 'NOME_TURNO_CURSO_BOLSA', \n",
    "                      'CPF_BENEFICIARIO_BOLSA','REGIAO_BENEFICIARIO_BOLSA'], axis=1)\n",
    "prouni.head()"
   ]
  },
  {
   "cell_type": "code",
   "execution_count": 15,
   "metadata": {},
   "outputs": [
    {
     "data": {
      "text/html": [
       "<div>\n",
       "<style scoped>\n",
       "    .dataframe tbody tr th:only-of-type {\n",
       "        vertical-align: middle;\n",
       "    }\n",
       "\n",
       "    .dataframe tbody tr th {\n",
       "        vertical-align: top;\n",
       "    }\n",
       "\n",
       "    .dataframe thead th {\n",
       "        text-align: right;\n",
       "    }\n",
       "</style>\n",
       "<table border=\"1\" class=\"dataframe\">\n",
       "  <thead>\n",
       "    <tr style=\"text-align: right;\">\n",
       "      <th></th>\n",
       "      <th>ANO_CONCESSAO_BOLSA</th>\n",
       "      <th>NOME_IES_BOLSA</th>\n",
       "      <th>TIPO_BOLSA</th>\n",
       "      <th>MODALIDADE_ENSINO_BOLSA</th>\n",
       "      <th>NOME_CURSO_BOLSA</th>\n",
       "      <th>SEXO_BENEFICIARIO_BOLSA</th>\n",
       "      <th>RACA_BENEFICIARIO_BOLSA</th>\n",
       "      <th>DT_NASCIMENTO_BENEFICIARIO</th>\n",
       "      <th>BENEFICIARIO_DEFICIENTE_FISICO</th>\n",
       "      <th>SIGLA_UF_BENEFICIARIO_BOLSA</th>\n",
       "      <th>MUNICIPIO_BENEFICIARIO_BOLSA</th>\n",
       "    </tr>\n",
       "  </thead>\n",
       "  <tbody>\n",
       "    <tr>\n",
       "      <th>0</th>\n",
       "      <td>2019.0</td>\n",
       "      <td>PONTIFÍCIA UNIVERSIDADE CATÓLICA DO PARANÁ</td>\n",
       "      <td>BOLSA INTEGRAL</td>\n",
       "      <td>EAD</td>\n",
       "      <td>Administração</td>\n",
       "      <td>M</td>\n",
       "      <td>Branca</td>\n",
       "      <td>19/08/1993</td>\n",
       "      <td>N</td>\n",
       "      <td>PR</td>\n",
       "      <td>LONDRINA</td>\n",
       "    </tr>\n",
       "    <tr>\n",
       "      <th>1</th>\n",
       "      <td>2019.0</td>\n",
       "      <td>PONTIFÍCIA UNIVERSIDADE CATÓLICA DO PARANÁ</td>\n",
       "      <td>BOLSA INTEGRAL</td>\n",
       "      <td>EAD</td>\n",
       "      <td>Administração</td>\n",
       "      <td>F</td>\n",
       "      <td>Branca</td>\n",
       "      <td>03/11/1999</td>\n",
       "      <td>N</td>\n",
       "      <td>PR</td>\n",
       "      <td>SAO JOSE DOS PINHAIS</td>\n",
       "    </tr>\n",
       "    <tr>\n",
       "      <th>2</th>\n",
       "      <td>2019.0</td>\n",
       "      <td>PONTIFÍCIA UNIVERSIDADE CATÓLICA DO PARANÁ</td>\n",
       "      <td>BOLSA INTEGRAL</td>\n",
       "      <td>EAD</td>\n",
       "      <td>Análise E Desenvolvimento De Sistemas</td>\n",
       "      <td>M</td>\n",
       "      <td>Parda</td>\n",
       "      <td>02/04/1999</td>\n",
       "      <td>N</td>\n",
       "      <td>PR</td>\n",
       "      <td>QUATRO BARRAS</td>\n",
       "    </tr>\n",
       "    <tr>\n",
       "      <th>3</th>\n",
       "      <td>2019.0</td>\n",
       "      <td>PONTIFÍCIA UNIVERSIDADE CATÓLICA DO PARANÁ</td>\n",
       "      <td>BOLSA INTEGRAL</td>\n",
       "      <td>EAD</td>\n",
       "      <td>Análise E Desenvolvimento De Sistemas</td>\n",
       "      <td>M</td>\n",
       "      <td>Branca</td>\n",
       "      <td>15/03/2000</td>\n",
       "      <td>N</td>\n",
       "      <td>PR</td>\n",
       "      <td>CURITIBA</td>\n",
       "    </tr>\n",
       "    <tr>\n",
       "      <th>4</th>\n",
       "      <td>2019.0</td>\n",
       "      <td>PONTIFÍCIA UNIVERSIDADE CATÓLICA DO PARANÁ</td>\n",
       "      <td>BOLSA INTEGRAL</td>\n",
       "      <td>EAD</td>\n",
       "      <td>Análise E Desenvolvimento De Sistemas</td>\n",
       "      <td>M</td>\n",
       "      <td>Branca</td>\n",
       "      <td>23/05/1993</td>\n",
       "      <td>N</td>\n",
       "      <td>PR</td>\n",
       "      <td>SAO JOSE DOS PINHAIS</td>\n",
       "    </tr>\n",
       "  </tbody>\n",
       "</table>\n",
       "</div>"
      ],
      "text/plain": [
       "   ANO_CONCESSAO_BOLSA                              NOME_IES_BOLSA  \\\n",
       "0               2019.0  PONTIFÍCIA UNIVERSIDADE CATÓLICA DO PARANÁ   \n",
       "1               2019.0  PONTIFÍCIA UNIVERSIDADE CATÓLICA DO PARANÁ   \n",
       "2               2019.0  PONTIFÍCIA UNIVERSIDADE CATÓLICA DO PARANÁ   \n",
       "3               2019.0  PONTIFÍCIA UNIVERSIDADE CATÓLICA DO PARANÁ   \n",
       "4               2019.0  PONTIFÍCIA UNIVERSIDADE CATÓLICA DO PARANÁ   \n",
       "\n",
       "       TIPO_BOLSA MODALIDADE_ENSINO_BOLSA  \\\n",
       "0  BOLSA INTEGRAL                     EAD   \n",
       "1  BOLSA INTEGRAL                     EAD   \n",
       "2  BOLSA INTEGRAL                     EAD   \n",
       "3  BOLSA INTEGRAL                     EAD   \n",
       "4  BOLSA INTEGRAL                     EAD   \n",
       "\n",
       "                        NOME_CURSO_BOLSA SEXO_BENEFICIARIO_BOLSA  \\\n",
       "0                          Administração                       M   \n",
       "1                          Administração                       F   \n",
       "2  Análise E Desenvolvimento De Sistemas                       M   \n",
       "3  Análise E Desenvolvimento De Sistemas                       M   \n",
       "4  Análise E Desenvolvimento De Sistemas                       M   \n",
       "\n",
       "  RACA_BENEFICIARIO_BOLSA DT_NASCIMENTO_BENEFICIARIO  \\\n",
       "0                  Branca                 19/08/1993   \n",
       "1                  Branca                 03/11/1999   \n",
       "2                   Parda                 02/04/1999   \n",
       "3                  Branca                 15/03/2000   \n",
       "4                  Branca                 23/05/1993   \n",
       "\n",
       "  BENEFICIARIO_DEFICIENTE_FISICO SIGLA_UF_BENEFICIARIO_BOLSA  \\\n",
       "0                              N                          PR   \n",
       "1                              N                          PR   \n",
       "2                              N                          PR   \n",
       "3                              N                          PR   \n",
       "4                              N                          PR   \n",
       "\n",
       "  MUNICIPIO_BENEFICIARIO_BOLSA  \n",
       "0                     LONDRINA  \n",
       "1         SAO JOSE DOS PINHAIS  \n",
       "2                QUATRO BARRAS  \n",
       "3                     CURITIBA  \n",
       "4         SAO JOSE DOS PINHAIS  "
      ]
     },
     "execution_count": 15,
     "metadata": {},
     "output_type": "execute_result"
    }
   ],
   "source": [
    "# Elimina as linhas com valores ausentes \n",
    "prouni = prouni.dropna(how='all')\n",
    "prouni.head()"
   ]
  },
  {
   "cell_type": "code",
   "execution_count": 16,
   "metadata": {},
   "outputs": [
    {
     "data": {
      "text/html": [
       "<div>\n",
       "<style scoped>\n",
       "    .dataframe tbody tr th:only-of-type {\n",
       "        vertical-align: middle;\n",
       "    }\n",
       "\n",
       "    .dataframe tbody tr th {\n",
       "        vertical-align: top;\n",
       "    }\n",
       "\n",
       "    .dataframe thead th {\n",
       "        text-align: right;\n",
       "    }\n",
       "</style>\n",
       "<table border=\"1\" class=\"dataframe\">\n",
       "  <thead>\n",
       "    <tr style=\"text-align: right;\">\n",
       "      <th></th>\n",
       "      <th>ANO_CONCESSAO_BOLSA</th>\n",
       "      <th>Instituição</th>\n",
       "      <th>Tipo_bolsa</th>\n",
       "      <th>Modalidade</th>\n",
       "      <th>Curso</th>\n",
       "      <th>Sexo_beneficiario</th>\n",
       "      <th>Raça_Beneficiario</th>\n",
       "      <th>Data_de_nascimento</th>\n",
       "      <th>Deficiente_fisico</th>\n",
       "      <th>UF</th>\n",
       "      <th>Municipio</th>\n",
       "    </tr>\n",
       "  </thead>\n",
       "  <tbody>\n",
       "    <tr>\n",
       "      <th>0</th>\n",
       "      <td>2019.0</td>\n",
       "      <td>PONTIFÍCIA UNIVERSIDADE CATÓLICA DO PARANÁ</td>\n",
       "      <td>BOLSA INTEGRAL</td>\n",
       "      <td>EAD</td>\n",
       "      <td>Administração</td>\n",
       "      <td>M</td>\n",
       "      <td>Branca</td>\n",
       "      <td>19/08/1993</td>\n",
       "      <td>N</td>\n",
       "      <td>PR</td>\n",
       "      <td>LONDRINA</td>\n",
       "    </tr>\n",
       "    <tr>\n",
       "      <th>1</th>\n",
       "      <td>2019.0</td>\n",
       "      <td>PONTIFÍCIA UNIVERSIDADE CATÓLICA DO PARANÁ</td>\n",
       "      <td>BOLSA INTEGRAL</td>\n",
       "      <td>EAD</td>\n",
       "      <td>Administração</td>\n",
       "      <td>F</td>\n",
       "      <td>Branca</td>\n",
       "      <td>03/11/1999</td>\n",
       "      <td>N</td>\n",
       "      <td>PR</td>\n",
       "      <td>SAO JOSE DOS PINHAIS</td>\n",
       "    </tr>\n",
       "    <tr>\n",
       "      <th>2</th>\n",
       "      <td>2019.0</td>\n",
       "      <td>PONTIFÍCIA UNIVERSIDADE CATÓLICA DO PARANÁ</td>\n",
       "      <td>BOLSA INTEGRAL</td>\n",
       "      <td>EAD</td>\n",
       "      <td>Análise E Desenvolvimento De Sistemas</td>\n",
       "      <td>M</td>\n",
       "      <td>Parda</td>\n",
       "      <td>02/04/1999</td>\n",
       "      <td>N</td>\n",
       "      <td>PR</td>\n",
       "      <td>QUATRO BARRAS</td>\n",
       "    </tr>\n",
       "    <tr>\n",
       "      <th>3</th>\n",
       "      <td>2019.0</td>\n",
       "      <td>PONTIFÍCIA UNIVERSIDADE CATÓLICA DO PARANÁ</td>\n",
       "      <td>BOLSA INTEGRAL</td>\n",
       "      <td>EAD</td>\n",
       "      <td>Análise E Desenvolvimento De Sistemas</td>\n",
       "      <td>M</td>\n",
       "      <td>Branca</td>\n",
       "      <td>15/03/2000</td>\n",
       "      <td>N</td>\n",
       "      <td>PR</td>\n",
       "      <td>CURITIBA</td>\n",
       "    </tr>\n",
       "    <tr>\n",
       "      <th>4</th>\n",
       "      <td>2019.0</td>\n",
       "      <td>PONTIFÍCIA UNIVERSIDADE CATÓLICA DO PARANÁ</td>\n",
       "      <td>BOLSA INTEGRAL</td>\n",
       "      <td>EAD</td>\n",
       "      <td>Análise E Desenvolvimento De Sistemas</td>\n",
       "      <td>M</td>\n",
       "      <td>Branca</td>\n",
       "      <td>23/05/1993</td>\n",
       "      <td>N</td>\n",
       "      <td>PR</td>\n",
       "      <td>SAO JOSE DOS PINHAIS</td>\n",
       "    </tr>\n",
       "  </tbody>\n",
       "</table>\n",
       "</div>"
      ],
      "text/plain": [
       "   ANO_CONCESSAO_BOLSA                                 Instituição  \\\n",
       "0               2019.0  PONTIFÍCIA UNIVERSIDADE CATÓLICA DO PARANÁ   \n",
       "1               2019.0  PONTIFÍCIA UNIVERSIDADE CATÓLICA DO PARANÁ   \n",
       "2               2019.0  PONTIFÍCIA UNIVERSIDADE CATÓLICA DO PARANÁ   \n",
       "3               2019.0  PONTIFÍCIA UNIVERSIDADE CATÓLICA DO PARANÁ   \n",
       "4               2019.0  PONTIFÍCIA UNIVERSIDADE CATÓLICA DO PARANÁ   \n",
       "\n",
       "       Tipo_bolsa Modalidade                                  Curso  \\\n",
       "0  BOLSA INTEGRAL        EAD                          Administração   \n",
       "1  BOLSA INTEGRAL        EAD                          Administração   \n",
       "2  BOLSA INTEGRAL        EAD  Análise E Desenvolvimento De Sistemas   \n",
       "3  BOLSA INTEGRAL        EAD  Análise E Desenvolvimento De Sistemas   \n",
       "4  BOLSA INTEGRAL        EAD  Análise E Desenvolvimento De Sistemas   \n",
       "\n",
       "  Sexo_beneficiario Raça_Beneficiario Data_de_nascimento Deficiente_fisico  \\\n",
       "0                 M            Branca         19/08/1993                 N   \n",
       "1                 F            Branca         03/11/1999                 N   \n",
       "2                 M             Parda         02/04/1999                 N   \n",
       "3                 M            Branca         15/03/2000                 N   \n",
       "4                 M            Branca         23/05/1993                 N   \n",
       "\n",
       "   UF             Municipio  \n",
       "0  PR              LONDRINA  \n",
       "1  PR  SAO JOSE DOS PINHAIS  \n",
       "2  PR         QUATRO BARRAS  \n",
       "3  PR              CURITIBA  \n",
       "4  PR  SAO JOSE DOS PINHAIS  "
      ]
     },
     "execution_count": 16,
     "metadata": {},
     "output_type": "execute_result"
    }
   ],
   "source": [
    "# Renomeia as colunas tornando mais legiveis \n",
    "prouni = prouni.rename(columns={'ï»¿ANO_CONCESSAO_BOLSA':'Ano_Bolsa', 'NOME_IES_BOLSA': 'Instituição',\n",
    "                                'TIPO_BOLSA': 'Tipo_bolsa', 'MODALIDADE_ENSINO_BOLSA':'Modalidade', \n",
    "                                'NOME_CURSO_BOLSA': 'Curso','SEXO_BENEFICIARIO_BOLSA':'Sexo_beneficiario',\n",
    "                                'RACA_BENEFICIARIO_BOLSA':'Raça_Beneficiario',\n",
    "                                'DT_NASCIMENTO_BENEFICIARIO': 'Data_de_nascimento', \n",
    "                                'BENEFICIARIO_DEFICIENTE_FISICO':'Deficiente_fisico',\n",
    "                                'SIGLA_UF_BENEFICIARIO_BOLSA':'UF', 'MUNICIPIO_BENEFICIARIO_BOLSA': 'Municipio'})\n",
    "prouni.head()"
   ]
  },
  {
   "cell_type": "code",
   "execution_count": 17,
   "metadata": {},
   "outputs": [
    {
     "data": {
      "text/plain": [
       "SP    59441\n",
       "MG    26372\n",
       "PR    15195\n",
       "BA    14172\n",
       "RJ    12945\n",
       "RS    12526\n",
       "MA     8506\n",
       "PE     8032\n",
       "GO     7886\n",
       "PA     7879\n",
       "CE     7301\n",
       "SC     6667\n",
       "DF     5810\n",
       "ES     5344\n",
       "AM     4229\n",
       "MS     2784\n",
       "PB     2757\n",
       "MT     2751\n",
       "PI     2692\n",
       "RO     2578\n",
       "RN     2281\n",
       "TO     1794\n",
       "AL     1464\n",
       "SE     1340\n",
       "AC     1292\n",
       "AP     1191\n",
       "RR      326\n",
       "Name: UF, dtype: int64"
      ]
     },
     "execution_count": 17,
     "metadata": {},
     "output_type": "execute_result"
    }
   ],
   "source": [
    "# Estados com maior numero de ingressantes no Prouni em 2019.\n",
    "prouni['UF'].value_counts().sort_values(ascending=False)"
   ]
  },
  {
   "cell_type": "code",
   "execution_count": 18,
   "metadata": {},
   "outputs": [
    {
     "name": "stdout",
     "output_type": "stream",
     "text": [
      "As 5 cidades com mais bolsas concedidas pelo PROUNI no ano de 2019 são:\n",
      "Municipio\n",
      "SAO PAULO         16688\n",
      "BRASILIA           5810\n",
      "RIO DE JANEIRO     5668\n",
      "BELO HORIZONTE     4808\n",
      "CURITIBA           4261\n",
      "dtype: int64\n",
      "\n",
      "As 5 instiuições com mais bolsas concedidas no ProUni 2019 são:\n",
      "Instituição\n",
      "UNIVERSIDADE PAULISTA                     36618\n",
      "CENTRO UNIVERSITÁRIO INTERNACIONAL         8598\n",
      "UNIVERSIDADE ESTÁCIO DE SÁ                 7009\n",
      "CENTRO UNIVERSITÁRIO LEONARDO DA VINCI     5344\n",
      "UNIVERSIDADE PITÁGORAS UNOPAR              4864\n",
      "dtype: int64\n",
      "\n"
     ]
    }
   ],
   "source": [
    "# Identifica as cidades e as instiuições de ensino que concederam mais bolsas de estudo no Prouni de 2019\n",
    "cidades_mais_bolsas = prouni.value_counts('Municipio').sort_values(ascending=False)[:5]\n",
    "instituiçao_mais_bolsas = prouni.value_counts('Instituição').sort_values(ascending=False)[:5]\n",
    "\n",
    "print(f'As 5 cidades com mais bolsas concedidas pelo PROUNI no ano de 2019 são:\\n{cidades_mais_bolsas}\\n')\n",
    "print(f'As 5 instiuições com mais bolsas concedidas no ProUni 2019 são:\\n{instituiçao_mais_bolsas}\\n')"
   ]
  },
  {
   "cell_type": "markdown",
   "metadata": {},
   "source": [
    "# Visualizando os dados"
   ]
  },
  {
   "cell_type": "code",
   "execution_count": 19,
   "metadata": {
    "scrolled": true
   },
   "outputs": [
    {
     "data": {
      "text/plain": [
       "(0.0, 17000.0)"
      ]
     },
     "execution_count": 19,
     "metadata": {},
     "output_type": "execute_result"
    },
    {
     "data": {
      "image/png": "[encoded data removed]",
      "text/plain": [
       "<Figure size 432x288 with 1 Axes>"
      ]
     },
     "metadata": {
      "needs_background": "light"
     },
     "output_type": "display_data"
    }
   ],
   "source": [
    "cidades_mais_bolsas.plot(kind='barh', color='#830000', title='Cidades com maior numero de bolsas concedidas pelo ProUni em 2019')\n",
    "plt.xlabel('Mil')\n",
    "plt.ylabel('Municipio')\n",
    "plt.xlim(0, 17000, 100)"
   ]
  },
  {
   "cell_type": "code",
   "execution_count": 20,
   "metadata": {},
   "outputs": [
    {
     "data": {
      "text/plain": [
       "Text(0, 0.5, '')"
      ]
     },
     "execution_count": 20,
     "metadata": {},
     "output_type": "execute_result"
    },
    {
     "data": {
      "image/png": "[encoded data removed]",
      "text/plain": [
       "<Figure size 432x288 with 1 Axes>"
      ]
     },
     "metadata": {},
     "output_type": "display_data"
    }
   ],
   "source": [
    "sexos = prouni.Sexo_beneficiario.value_counts(normalize=True)*100\n",
    "sexos.plot(kind='pie', autopct='%.2f%%', colors=['#fe09f8','#000992'])\n",
    "plt.title('Sexo dos ingressantes no ProUni 2019')\n",
    "plt.ylabel('')"
   ]
  },
  {
   "cell_type": "code",
   "execution_count": 21,
   "metadata": {},
   "outputs": [
    {
     "data": {
      "text/plain": [
       "Text(0, 0.5, '')"
      ]
     },
     "execution_count": 21,
     "metadata": {},
     "output_type": "execute_result"
    },
    {
     "data": {
      "image/png": "[encoded data removed]",
      "text/plain": [
       "<Figure size 432x288 with 1 Axes>"
      ]
     },
     "metadata": {},
     "output_type": "display_data"
    }
   ],
   "source": [
    "bolsas = prouni.Tipo_bolsa.value_counts(normalize=True)*100\n",
    "bolsas.plot(kind='pie', autopct='%.2f%%', colors=['#10be02','#f0ff20'])\n",
    "plt.title('Tipos de Bolsas ofertadas no ProUni de 2019')\n",
    "plt.ylabel('')"
   ]
  },
  {
   "cell_type": "code",
   "execution_count": 22,
   "metadata": {},
   "outputs": [
    {
     "data": {
      "text/plain": [
       "Text(0, 0.5, '')"
      ]
     },
     "execution_count": 22,
     "metadata": {},
     "output_type": "execute_result"
    },
    {
     "data": {
      "image/png": "[encoded data removed]",
      "text/plain": [
       "<Figure size 432x288 with 1 Axes>"
      ]
     },
     "metadata": {},
     "output_type": "display_data"
    }
   ],
   "source": [
    "modalidade = prouni.Modalidade.value_counts(normalize=True) * 100\n",
    "modalidade.plot(kind='pie', autopct='%.2f%%', colors=['#f76015','yellow'])\n",
    "plt.title('Modalidade de Cursos ofertados no Prouni de 2019')\n",
    "plt.ylabel('')"
   ]
  },
  {
   "cell_type": "code",
   "execution_count": 23,
   "metadata": {},
   "outputs": [
    {
     "data": {
      "text/plain": [
       "Text(0, 0.5, '')"
      ]
     },
     "execution_count": 23,
     "metadata": {},
     "output_type": "execute_result"
    },
    {
     "data": {
      "image/png": "[encoded data removed]",
      "text/plain": [
       "<Figure size 432x288 with 1 Axes>"
      ]
     },
     "metadata": {},
     "output_type": "display_data"
    }
   ],
   "source": [
    "cursos = prouni.Curso.value_counts(normalize=True)*100\n",
    "cursos[:5].plot(kind='pie',autopct='%.2f%%' )\n",
    "plt.title('5 Cursos com mais ingressos no ProUni de 2019 no Brasil')\n",
    "plt.ylabel('')"
   ]
  },
  {
   "cell_type": "markdown",
   "metadata": {},
   "source": [
    "FONTE: http://dadosabertos.mec.gov.br/prouni/item/88-bolsas-e-perfil-2019"
   ]
  }
 ],
 "metadata": {
  "kernelspec": {
   "display_name": "Python 3",
   "language": "python",
   "name": "python3"
  },
  "language_info": {
   "codemirror_mode": {
    "name": "ipython",
    "version": 3
   },
   "file_extension": ".py",
   "mimetype": "text/x-python",
   "name": "python",
   "nbconvert_exporter": "python",
   "pygments_lexer": "ipython3",
   "version": "3.8.5"
  }
 },
 "nbformat": 4,
 "nbformat_minor": 4
}
